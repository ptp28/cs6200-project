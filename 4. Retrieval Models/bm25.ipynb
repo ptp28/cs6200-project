{
 "cells": [
  {
   "cell_type": "markdown",
   "id": "6beba630-9fb5-48fe-abb8-d2989b9830b8",
   "metadata": {},
   "source": [
    "## Setup\n",
    "\n",
    "Load the dataframe, have helper methods for getting document lengths, term frequency stats, etc"
   ]
  },
  {
   "cell_type": "code",
   "execution_count": 1,
   "id": "33693781-5c40-41de-bb40-81b2e68bbe9f",
   "metadata": {},
   "outputs": [],
   "source": [
    "import json\n",
    "rawfile = open('doc_term_frequency.json')\n",
    "terms = [json.loads(line) for line in rawfile]"
   ]
  },
  {
   "cell_type": "code",
   "execution_count": 2,
   "id": "93132012-c20f-4c69-ab5c-2f66d3fc96ec",
   "metadata": {},
   "outputs": [
    {
     "name": "stdout",
     "output_type": "stream",
     "text": [
      "{'total_terms': 18387836, 'num_documents': 17337, 'non_empty_documents': 17337, 'unique_terms': 147802}\n"
     ]
    }
   ],
   "source": [
    "import pandas as pd\n",
    "import numpy as np \n",
    "\n",
    "df = pd.DataFrame(terms)\n",
    "\n",
    "total_terms = df['count'].sum()  # Sum of term frequencies\n",
    "num_documents = df['url'].nunique()  # Total number of unique documents\n",
    "non_empty_documents = df[df['count'] > 0]['url'].nunique()  # Documents with at least one term\n",
    "unique_terms = df['term'].nunique()  # Number of unique terms (including empty terms if present)\n",
    "\n",
    "stats = {\n",
    "    'total_terms': total_terms,\n",
    "    'num_documents': num_documents,\n",
    "    'non_empty_documents': non_empty_documents,\n",
    "    'unique_terms': unique_terms\n",
    "}\n",
    "\n",
    "print(stats)"
   ]
  },
  {
   "cell_type": "code",
   "execution_count": 3,
   "id": "d91914e6-3831-4f7d-8548-07964019943d",
   "metadata": {},
   "outputs": [],
   "source": [
    "doc_lengths = df.groupby(\"url\")[\"count\"].sum().reset_index()\n",
    "doc_lengths.rename(columns={\"count\": \"doc_length\"}, inplace=True)"
   ]
  },
  {
   "cell_type": "code",
   "execution_count": 4,
   "id": "15e7cd7f-49a3-4b18-b7ef-23d507dc53bb",
   "metadata": {},
   "outputs": [],
   "source": [
    "def get_doc_length(url):\n",
    "    result = doc_lengths[doc_lengths['url'] == url]\n",
    "    if not result.empty:\n",
    "        return result['doc_length'].values[0]\n",
    "    else:\n",
    "        return 0\n",
    "\n",
    "def get_term_frequencies(term):\n",
    "    # Document frequency: Number of documents containing the term\n",
    "    document_frequency = df[df['term'] == term]['url'].nunique()\n",
    "    # Collection frequency: Sum of the term counts across all documents\n",
    "    collection_frequency = df[df['term'] == term]['count'].sum()\n",
    "    \n",
    "    return document_frequency, collection_frequency\n",
    "\n",
    "def get_postings_list(term):\n",
    "    # Filter rows for the specific term\n",
    "    term_rows = df[df['term'] == term]\n",
    "    \n",
    "    postings_list = []\n",
    "    for _, row in term_rows.iterrows():\n",
    "        postings_list.append({\n",
    "            'url': row['url'],\n",
    "            'tf': row['count'],\n",
    "        })\n",
    "    return postings_list"
   ]
  },
  {
   "cell_type": "code",
   "execution_count": 22,
   "id": "36408cdf-1a49-4520-9eea-9efb3dfc81d7",
   "metadata": {},
   "outputs": [],
   "source": [
    "import nltk\n",
    "from nltk.tokenize import word_tokenize\n",
    "from nltk.stem import PorterStemmer\n",
    "from nltk.corpus import stopwords\n",
    "\n",
    "stemmer = PorterStemmer()\n",
    "stop_words = set(stopwords.words('english'))\n",
    "\n",
    "def process_query(query):\n",
    "    return [\n",
    "    stemmer.stem(word.lower()) \n",
    "    for word in word_tokenize(query) \n",
    "    if word.isalnum() and word.lower() not in stop_words\n",
    "]"
   ]
  },
  {
   "cell_type": "code",
   "execution_count": 23,
   "id": "f0687d47-97aa-4e20-99e1-f8f67e3b945c",
   "metadata": {},
   "outputs": [
    {
     "data": {
      "text/plain": [
       "['49th', 'state', 'usa']"
      ]
     },
     "execution_count": 23,
     "metadata": {},
     "output_type": "execute_result"
    }
   ],
   "source": [
    "process_query('what is the 49th state of USA?')"
   ]
  },
  {
   "cell_type": "markdown",
   "id": "7c63d86a-e18a-467c-9219-d0fc0ce00309",
   "metadata": {},
   "source": [
    "## BM25"
   ]
  },
  {
   "cell_type": "code",
   "execution_count": 8,
   "id": "a1f5f9c2-5e96-4ff4-93ac-fc3b99ce44fa",
   "metadata": {},
   "outputs": [],
   "source": [
    "import math\n",
    "from collections import defaultdict\n",
    "\n",
    "\n",
    "def calculate_bm25(query, df, doc_lengths, k1=1.5, b=0.75):\n",
    "    query_terms = process_query(query)  # Tokenize and process the query\n",
    "    N = len(doc_lengths)  # Total number of documents in the collection\n",
    "    total_doc_length = doc_lengths['doc_length'].sum()\n",
    "    num_documents = doc_lengths['url'].nunique()\n",
    "    avg_doc_length = total_doc_length / num_documents\n",
    "    doc_scores = defaultdict(float)  # Dictionary to store scores for each document\n",
    "\n",
    "    for term in query_terms:\n",
    "        # Step 1: Compute IDF for the term\n",
    "        df_t = len(df[df['term'] == term]) \n",
    "        idf_t = math.log((N - df_t + 0.5) / (df_t + 0.5) + 1.0)\n",
    "\n",
    "        # Step 2: Get the posting list for the term\n",
    "        term_postings = get_postings_list(term)\n",
    "\n",
    "        for posting in term_postings:\n",
    "            url = posting['url']\n",
    "            term_frequency = posting['tf']\n",
    "\n",
    "            # Step 3: Get document length\n",
    "            doc_length = doc_lengths.get(url, 0)\n",
    "\n",
    "            # Step 4: Apply BM25 formula to calculate the score for this document\n",
    "            term_freq_saturation = (term_frequency * (k1 + 1)) / (term_frequency + k1 * (1 - b + b * (doc_length / avg_doc_length)))\n",
    "            score = idf_t * term_freq_saturation\n",
    "\n",
    "            # Accumulate the score for this document\n",
    "            doc_scores[url] += score\n",
    "\n",
    "    # Step 5: Sort the documents by score (higher score means more relevant)\n",
    "    top_docs = sorted(doc_scores.items(), key=lambda x: x[1], reverse=True)\n",
    "\n",
    "    return top_docs"
   ]
  },
  {
   "cell_type": "code",
   "execution_count": 9,
   "id": "c239b06c-1735-40cb-8865-723c90445af0",
   "metadata": {},
   "outputs": [
    {
     "data": {
      "text/plain": [
       "[('https://archive.org/details/alaskahistoryof40000nask', 14.647105111254836),\n",
       " ('https://books.google.com/books?id=-xhQl1WDWa0C&pg=PA330',\n",
       "  14.647105111254836),\n",
       " ('https://archive.org/details/1959-01-05_49th_Star_Alaska_Statehood',\n",
       "  14.647105111254836),\n",
       " ('https://books.google.com/books?id=-xhQl1WDWa0C&q=Hickel+worked+with+the+AFN%2C+negotiating+between+Natives+and+Alaska&pg=PA205',\n",
       "  14.647105111254836),\n",
       " ('https://books.google.com/books?id=-xhQl1WDWa0C&q=Hickel+worked+with+the+AFN,+negotiating+between+Natives+and+Alaska',\n",
       "  14.647105111254836)]"
      ]
     },
     "execution_count": 9,
     "metadata": {},
     "output_type": "execute_result"
    }
   ],
   "source": [
    "calculate_bm25(\"49th state of the US\", df=df, doc_lengths=doc_lengths)[0:5]"
   ]
  },
  {
   "cell_type": "code",
   "execution_count": 10,
   "id": "4bc549fd-7804-49d3-97a7-e53e2c3e0379",
   "metadata": {},
   "outputs": [
    {
     "data": {
      "text/plain": [
       "[('http://www.explorenorth.com/library/weekly/aa110599.htm',\n",
       "  12.275431103207435),\n",
       " ('https://en.wikibooks.org/wiki/History_of_Alaska/Printable_version',\n",
       "  12.261681391982926),\n",
       " ('https://en.wikipedia.org/wiki/Alaska_Department_of_Fish_and_Game',\n",
       "  12.161598284023674),\n",
       " ('https://en.wikibooks.org/wiki/History_of_Alaska/Alaska_in_US_Popular_Culture_(1867-present)',\n",
       "  12.149113705828768),\n",
       " ('https://en.wikipedia.org/wiki/Alaska_Peninsula_National_Wildlife_Refuge',\n",
       "  12.124545757279304),\n",
       " ('https://en.wikipedia.org/wiki/Sports_in_Alaska', 12.098618866972798),\n",
       " ('https://en.wikipedia.org/wiki/Alaska#Cities,_towns_and_boroughs',\n",
       "  12.098618866972798),\n",
       " ('https://en.wikipedia.org/wiki/Education_in_Alaska', 12.098618866972798),\n",
       " ('https://en.wikipedia.org/wiki/Alaskan', 12.098618866972798),\n",
       " ('https://en.wikipedia.org/wiki/Alaska#Statehood', 12.098618866972798)]"
      ]
     },
     "execution_count": 10,
     "metadata": {},
     "output_type": "execute_result"
    }
   ],
   "source": [
    "calculate_bm25(\"wildlife of Alaska\", df=df, doc_lengths=doc_lengths)[0:10]"
   ]
  },
  {
   "cell_type": "markdown",
   "id": "d809269a-13f6-4516-8071-5d0865f0e074",
   "metadata": {},
   "source": [
    "## Getting Manual Relevance Feedback (Generating test sets)"
   ]
  },
  {
   "cell_type": "code",
   "execution_count": 11,
   "id": "c4d21140-97b6-47e7-9ec8-1d7e5f3f0c83",
   "metadata": {},
   "outputs": [],
   "source": [
    "test_queries = [\n",
    "    {\n",
    "        \"title\": \"History of Alaska\",\n",
    "        \"description\": \"What is the history of Alaska?\",\n",
    "        \"narrative\": \"The user is looking for an overview of Alaska's history, including its indigenous cultures, exploration by Russians, and eventual statehood. Relevant results should include key events, timelines, and cultural significance.\"\n",
    "    },\n",
    "    {\n",
    "        \"title\": \"Impact of Klondike Gold Rush\",\n",
    "        \"description\": \"What was the impact of the Klondike Gold Rush?\",\n",
    "        \"narrative\": \"The user wants to understand the social, economic, and environmental impact of the Klondike Gold Rush. Relevant results should mention its effect on migration, economy, and indigenous communities.\"\n",
    "    },\n",
    "    {\n",
    "        \"title\": \"Alaska Purchase reasons\",\n",
    "        \"description\": \"Why did the United States purchase Alaska from Russia?\",\n",
    "        \"narrative\": \"The user is seeking reasons behind the Alaska Purchase, including geopolitical, economic, and strategic motivations. Relevant results should discuss the historical context and negotiations of the purchase.\"\n",
    "    },\n",
    "    {\n",
    "        \"title\": \"Alaska’s dominant industries\",\n",
    "        \"description\": \"What industries dominate Alaska’s economy today?\",\n",
    "        \"narrative\": \"The user is interested in knowing about Alaska’s current leading industries, such as oil, tourism, fishing, and mining. Relevant results should provide statistics and examples of these industries' contributions to the economy.\"\n",
    "    },\n",
    "    {\n",
    "        \"title\": \"Climate change in Alaska\",\n",
    "        \"description\": \"How has climate change affected Alaska’s environment and history?\",\n",
    "        \"narrative\": \"The user is looking for information on the impact of climate change on Alaska’s natural environment, wildlife, permafrost, and indigenous communities. Relevant results should provide examples of environmental and societal changes.\"\n",
    "    },\n",
    "    {\n",
    "        \"title\": \"Immediate consequences of Alaska Purchase\",\n",
    "        \"description\": \"What were the immediate consequences of the Alaska Purchase?\",\n",
    "        \"narrative\": \"The user is looking for outcomes that occurred immediately after the Alaska Purchase, such as changes in governance, settlement, and perceptions of the acquisition. Relevant results should highlight early reactions and developments.\"\n",
    "    },\n",
    "    {\n",
    "        \"title\": \"49th state of the US\",\n",
    "        \"description\": \"Which is the 49th state of the US?\",\n",
    "        \"narrative\": \"The user is looking for basic information confirming that Alaska is the 49th state of the United States. Relevant results should mention the year of statehood and its significance.\"\n",
    "    },\n",
    "    {\n",
    "        \"title\": \"Unique wildlife in Alaska\",\n",
    "        \"description\": \"What are the unique wildlife species found in Alaska?\",\n",
    "        \"narrative\": \"The user wants details about wildlife species that are unique to or prevalent in Alaska, such as Denali's wildlife, Arctic species, and marine life. Relevant results should include specific examples and their habitats.\"\n",
    "    },\n",
    "    {\n",
    "        \"title\": \"Challenges during Klondike Gold Rush\",\n",
    "        \"description\": \"What challenges did miners face during the Klondike Gold Rush?\",\n",
    "        \"narrative\": \"The user is seeking information on hardships miners encountered during the Klondike Gold Rush, including harsh climates, resource scarcity, and transportation issues. Relevant results should provide historical accounts and examples.\"\n",
    "    },\n",
    "    {\n",
    "        \"title\": \"Cost of Alaska Purchase\",\n",
    "        \"description\": \"How much did the U.S. pay for Alaska?\",\n",
    "        \"narrative\": \"The user is interested in the purchase cost of Alaska and its comparison to its perceived and actual value over time. Relevant results should include details of the transaction amount and historical significance.\"\n",
    "    }\n",
    "]"
   ]
  },
  {
   "cell_type": "code",
   "execution_count": null,
   "id": "0c31d80a-e0e3-4589-a003-e913e3842832",
   "metadata": {},
   "outputs": [],
   "source": [
    "feedback = {}\n",
    "\n",
    "# Loop through all test queries\n",
    "for query_data in test_queries[3:]:\n",
    "    query_feedback = {}\n",
    "    query_title = query_data[\"title\"]\n",
    "    query_description = query_data[\"description\"]\n",
    "\n",
    "    print(f\"Running BM25 for query: {query_title}\")\n",
    "    ranked_docs = calculate_bm25(query_title, df=df, doc_lengths=doc_lengths)[0:100]\n",
    "    \n",
    "    print(f\"Top 100 documents for query: '{query_title}'\")\n",
    "\n",
    "    # Display the top 10 documents and collect relevance feedback\n",
    "    for url, score in ranked_docs:\n",
    "        print(f\"Document {url}: Score {score:.4f}\")\n",
    "        \n",
    "        # Collect relevance feedback\n",
    "        while True:\n",
    "            try:\n",
    "                relevance = int(input(f\"Enter relevance feedback for {url} (0=Not Relevant, 1=Relevant, 2=Highly Relevant): \"))\n",
    "                if relevance not in [0, 1, 2]:\n",
    "                    print(\"Invalid input. Please enter 0, 1, or 2.\")\n",
    "                else:\n",
    "                    query_feedback[url] = relevance\n",
    "                    break\n",
    "            except ValueError:\n",
    "                print(\"Invalid input. Please enter 0, 1, or 2.\")\n",
    "\n",
    "    print(f\"Finished collecting feedback for query: '{query_title}'\")\n",
    "    \n",
    "    feedback[query_title] = query_feedback\n",
    "    \n",
    "# Step 6: Store the feedback in a JSON file\n",
    "with open(\"bm25_relevance_feedback.json\", \"a\") as f:\n",
    "    json.dump(feedback, f, indent=4)\n",
    "    \n",
    "print(\"Done.\")"
   ]
  },
  {
   "cell_type": "markdown",
   "id": "521631d3-6695-4db4-b052-88abc1ee4e2a",
   "metadata": {},
   "source": [
    "## Mean Average Precision on the above evaluated relevance feedback"
   ]
  },
  {
   "cell_type": "code",
   "execution_count": 12,
   "id": "261cd1cf-e8bd-41c7-a053-6d1cfd65380b",
   "metadata": {},
   "outputs": [],
   "source": [
    "# Compute the MAP@k for the test set above for BM25.\n",
    "import json\n",
    "\n",
    "with open(\"relevance_feedback.json\", \"r\") as file:\n",
    "        feedback = json.load(file)\n",
    "        \n",
    "qrels = {\n",
    "    (query, doc): relevance\n",
    "    for query, docs in feedback.items()\n",
    "    for doc, relevance in docs.items()\n",
    "}\n",
    "\n",
    "def compute_bm25_map_at_k(k): \n",
    "    \n",
    "    avg_precision = 0\n",
    "    \n",
    "    for query_data in test_queries:\n",
    "        topic = query_data['title']\n",
    "        hits = calculate_bm25(topic, df=df, doc_lengths=doc_lengths)[0:k]\n",
    "        rank = 0\n",
    "        num_relevant = 0\n",
    "        precision = 0\n",
    "    \n",
    "        for hit in hits:\n",
    "            rank += 1\n",
    "    \n",
    "            if (topic, hit[0]) in qrels and qrels[(topic, hit[0])] != 0:\n",
    "                num_relevant += 1\n",
    "                precision += num_relevant / rank\n",
    "        \n",
    "        if num_relevant:\n",
    "            avg_precision += precision / num_relevant\n",
    "    \n",
    "    final_accuracy = avg_precision / len(test_queries)\n",
    "    return final_accuracy"
   ]
  },
  {
   "cell_type": "markdown",
   "id": "2d9c3c71-576b-448a-be73-02429497bf7f",
   "metadata": {},
   "source": [
    "### MAP@10"
   ]
  },
  {
   "cell_type": "code",
   "execution_count": 24,
   "id": "9a1115b9-d9f4-4c38-aa60-d9dea3b81ad4",
   "metadata": {},
   "outputs": [
    {
     "data": {
      "text/plain": [
       "0.7847812736205594"
      ]
     },
     "execution_count": 24,
     "metadata": {},
     "output_type": "execute_result"
    }
   ],
   "source": [
    "compute_bm25_map_at_k(10)"
   ]
  },
  {
   "cell_type": "markdown",
   "id": "03b2edcb-fc3d-471c-b501-0d12b63abc4f",
   "metadata": {},
   "source": [
    "### MAP@50"
   ]
  },
  {
   "cell_type": "code",
   "execution_count": 25,
   "id": "bc3bef4e-8583-4edc-b04e-f3e434e4d850",
   "metadata": {},
   "outputs": [
    {
     "data": {
      "text/plain": [
       "0.7103757636600158"
      ]
     },
     "execution_count": 25,
     "metadata": {},
     "output_type": "execute_result"
    }
   ],
   "source": [
    "compute_bm25_map_at_k(50)"
   ]
  },
  {
   "cell_type": "markdown",
   "id": "5dc86dd6-66b9-4f94-a71f-0f563ce215d2",
   "metadata": {},
   "source": [
    "### MAP@100"
   ]
  },
  {
   "cell_type": "code",
   "execution_count": 26,
   "id": "f2092bdd-65c4-4fdc-abc3-8eaacee36466",
   "metadata": {},
   "outputs": [
    {
     "data": {
      "text/plain": [
       "0.6587458356111535"
      ]
     },
     "execution_count": 26,
     "metadata": {},
     "output_type": "execute_result"
    }
   ],
   "source": [
    "compute_bm25_map_at_k(100)"
   ]
  },
  {
   "cell_type": "markdown",
   "id": "b4327faa-13e9-4552-b4f6-a1f6b1a1857e",
   "metadata": {},
   "source": [
    "## Average Precision-Recall Curve"
   ]
  },
  {
   "cell_type": "code",
   "execution_count": 24,
   "id": "acfb6a4b-8f1e-40e4-85f1-8b1d9e34b6e0",
   "metadata": {},
   "outputs": [
    {
     "data": {
      "image/png": "[encoded data removed]",
      "text/plain": [
       "<Figure size 800x600 with 1 Axes>"
      ]
     },
     "metadata": {},
     "output_type": "display_data"
    }
   ],
   "source": [
    "import numpy as np\n",
    "import matplotlib.pyplot as plt\n",
    "\n",
    "def calculate_precision_recall_curve(topic, ranked_docs, qrels, total_relevant):\n",
    "    precision = []\n",
    "    recall = []\n",
    "    \n",
    "    rank = 0\n",
    "    num_relevant_retrieved = 0\n",
    "    \n",
    "    for doc, _ in ranked_docs:\n",
    "        rank += 1\n",
    "        \n",
    "        if (topic, doc) in qrels and qrels[(topic, doc)] != 0:\n",
    "            num_relevant_retrieved += 1\n",
    "            \n",
    "        # Calculate precision and recall at this rank\n",
    "        prec = num_relevant_retrieved / rank\n",
    "        rec = num_relevant_retrieved / total_relevant\n",
    "        \n",
    "        precision.append(prec)\n",
    "        recall.append(rec)\n",
    "    \n",
    "    return precision, recall\n",
    "    \n",
    "# Compute PR curve for all queries and average them\n",
    "recall_levels=11\n",
    "recall_points = np.linspace(0, 1, recall_levels)  # Recall levels (0.0 to 1.0)\n",
    "precision_at_recall = {r: [] for r in recall_points}\n",
    "\n",
    "for query_data in test_queries:\n",
    "    topic = query_data['title']\n",
    "    \n",
    "    # Get ranked documents for the query\n",
    "    ranked_docs = calculate_bm25(topic, df=df, doc_lengths=doc_lengths)[0:100]\n",
    "    total_relevant = sum(1 for key in qrels if key[0] == topic and qrels[key] != 0)\n",
    "    \n",
    "    if total_relevant == 0:\n",
    "        continue \n",
    "    \n",
    "    # Get precision-recall for this query\n",
    "    precision, recall = calculate_precision_recall_curve(topic, ranked_docs, qrels, total_relevant)\n",
    "    \n",
    "    # Interpolate precision at fixed recall levels\n",
    "    for r in recall_points:\n",
    "        interpolated_precision = max([p for p, rec in zip(precision, recall) if rec >= r], default=0)\n",
    "        precision_at_recall[r].append(interpolated_precision)\n",
    "\n",
    "# Compute average precision at each recall point\n",
    "avg_precision = [np.mean(precision_at_recall[r]) if precision_at_recall[r] else 0 for r in recall_points]\n",
    "\n",
    "# Plot the average PR curve\n",
    "plt.figure(figsize=(8, 6))\n",
    "plt.plot(recall_points, avg_precision, marker='o', label=\"Average PR Curve\")\n",
    "plt.xlabel(\"Recall\")\n",
    "plt.ylabel(\"Precision\")\n",
    "plt.title(\"Average Precision-Recall Curve\")\n",
    "plt.legend()\n",
    "plt.grid()\n",
    "plt.show()"
   ]
  }
 ],
 "metadata": {
  "kernelspec": {
   "display_name": "Python 3 (ipykernel)",
   "language": "python",
   "name": "python3"
  },
  "language_info": {
   "codemirror_mode": {
    "name": "ipython",
    "version": 3
   },
   "file_extension": ".py",
   "mimetype": "text/x-python",
   "name": "python",
   "nbconvert_exporter": "python",
   "pygments_lexer": "ipython3",
   "version": "3.12.7"
  }
 },
 "nbformat": 4,
 "nbformat_minor": 5
}
