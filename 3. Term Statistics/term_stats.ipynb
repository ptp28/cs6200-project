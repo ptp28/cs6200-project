{
 "cells": [
  {
   "cell_type": "markdown",
   "id": "600b5d6c-cb97-40cd-9e29-fad474b7a75f",
   "metadata": {},
   "source": [
    "# Term Statistics"
   ]
  },
  {
   "cell_type": "code",
   "execution_count": 1,
   "id": "1991b35e-2007-450a-88be-f2d2ec3f3479",
   "metadata": {},
   "outputs": [
    {
     "name": "stdout",
     "output_type": "stream",
     "text": [
      "Doc-Term frequency data saved to doc_term_frequency.json\n"
     ]
    }
   ],
   "source": [
    "import json\n",
    "from collections import Counter\n",
    "import re\n",
    "\n",
    "# Input and output file paths\n",
    "input_file = \"final_index.json\"\n",
    "output_file = \"doc_term_frequency.json\"\n",
    "\n",
    "# Load the merged JSON\n",
    "with open(input_file, 'r') as infile:\n",
    "    merged_data = json.load(infile)\n",
    "\n",
    "# Function to tokenize text and clean terms\n",
    "def tokenize(text):\n",
    "    # Convert to lowercase, remove non-alphanumeric characters, and split by spaces\n",
    "    return re.findall(r'\\b\\w+\\b', text.lower())\n",
    "\n",
    "# Initialize the list to store term frequency data\n",
    "term_frequency_list = []\n",
    "\n",
    "# Process each URL's content to generate term frequencies\n",
    "for url, data in merged_data.items():\n",
    "    # Combine all content into a single string\n",
    "    full_content = data[\"content\"]\n",
    "    title = data[\"title\"]\n",
    "    \n",
    "    # Tokenize the content\n",
    "    content_tokens = tokenize(full_content)\n",
    "    title_tokens = tokenize(title)\n",
    "    \n",
    "    # Count term frequencies\n",
    "    term_counts = Counter(content_tokens)\n",
    "    title_term_counts = Counter(title_tokens)\n",
    "\n",
    "    \n",
    "    # Add term frequency data to the list\n",
    "    for term, count in term_counts.items():\n",
    "        term_frequency_list.append({\n",
    "            \"url\": url,\n",
    "            \"field\": \"content\",\n",
    "            \"term\": term,\n",
    "            \"count\": count\n",
    "        })\n",
    "\n",
    "    for term, count in title_term_counts.items():\n",
    "        term_frequency_list.append({\n",
    "            \"url\": url,\n",
    "            \"field\": \"title\",\n",
    "            \"term\": term,\n",
    "            \"count\": count\n",
    "        })\n",
    "\n",
    "# Save the term frequency data to a JSONL file\n",
    "with open(output_file, 'w') as outfile:\n",
    "    for entry in term_frequency_list:\n",
    "        json.dump(entry, outfile)\n",
    "        outfile.write(\"\\n\")\n",
    "\n",
    "print(f\"Doc-Term frequency data saved to {output_file}\")"
   ]
  },
  {
   "cell_type": "code",
   "execution_count": 2,
   "id": "170c7996-9d07-4661-8538-b8890251a1e3",
   "metadata": {},
   "outputs": [],
   "source": [
    "import json\n",
    "rawfile = open('doc_term_frequency.json')\n",
    "terms = [json.loads(line) for line in rawfile]"
   ]
  },
  {
   "cell_type": "code",
   "execution_count": 3,
   "id": "acc794a2-7bc2-42c0-b2cf-27bc6aaa20cf",
   "metadata": {},
   "outputs": [
    {
     "name": "stdout",
     "output_type": "stream",
     "text": [
      "                                                   url    field     term  \\\n",
      "3650058  https://en.wikipedia.org/wiki/Alaska_Purchase  content      the   \n",
      "3650062  https://en.wikipedia.org/wiki/Alaska_Purchase  content       of   \n",
      "3650075  https://en.wikipedia.org/wiki/Alaska_Purchase  content       to   \n",
      "3650088  https://en.wikipedia.org/wiki/Alaska_Purchase  content      and   \n",
      "3650073  https://en.wikipedia.org/wiki/Alaska_Purchase  content       in   \n",
      "3650070  https://en.wikipedia.org/wiki/Alaska_Purchase  content        a   \n",
      "3650061  https://en.wikipedia.org/wiki/Alaska_Purchase  content       wa   \n",
      "3650078  https://en.wikipedia.org/wiki/Alaska_Purchase  content     that   \n",
      "3650064  https://en.wikipedia.org/wiki/Alaska_Purchase  content  russian   \n",
      "3650273  https://en.wikipedia.org/wiki/Alaska_Purchase  content       it   \n",
      "\n",
      "         count  \n",
      "3650058  304.0  \n",
      "3650062  119.0  \n",
      "3650075  113.0  \n",
      "3650088   84.0  \n",
      "3650073   77.0  \n",
      "3650070   65.0  \n",
      "3650061   52.0  \n",
      "3650078   45.0  \n",
      "3650064   42.0  \n",
      "3650273   36.0  \n"
     ]
    }
   ],
   "source": [
    "import pandas as pd\n",
    "import numpy as np\n",
    "\n",
    "df = pd.DataFrame(terms)\n",
    "top10_terms = df.where(df.url == 'https://en.wikipedia.org/wiki/Alaska_Purchase').sort_values(by='count', ascending=False).head(10)\n",
    "\n",
    "print(top10_terms)"
   ]
  },
  {
   "cell_type": "code",
   "execution_count": 4,
   "id": "b32c57f8-3045-4d88-acb7-392af9050a29",
   "metadata": {},
   "outputs": [
    {
     "name": "stdout",
     "output_type": "stream",
     "text": [
      "        term    count\n",
      "105740   the  1200143\n",
      "77614     of   590966\n",
      "12172    and   485402\n",
      "106884    to   408809\n",
      "53840     in   397114\n",
      "7806       a   315711\n",
      "114436    wa   151781\n",
      "14313     as   125082\n",
      "105715  that   124618\n",
      "42984    for   120503\n"
     ]
    }
   ],
   "source": [
    "# Top 10 terms\n",
    "df = pd.DataFrame(terms)\n",
    "term_counts = df.groupby('term')['count'].sum().reset_index()\n",
    "total_top10_terms = term_counts.sort_values(by='count', ascending=False).head(10)\n",
    "print(total_top10_terms)"
   ]
  },
  {
   "cell_type": "code",
   "execution_count": 5,
   "id": "f66a5b44-38cf-4a26-b5ac-85a0028461f9",
   "metadata": {},
   "outputs": [
    {
     "name": "stdout",
     "output_type": "stream",
     "text": [
      "17337\n"
     ]
    }
   ],
   "source": [
    "# Compute the number of distinct documents in the collection.\n",
    "df = pd.DataFrame(terms)\n",
    "num_docs = df['url'].unique()\n",
    "N = len(num_docs)\n",
    "print(N)"
   ]
  },
  {
   "cell_type": "code",
   "execution_count": 6,
   "id": "5e0425e7-3ac4-4192-af32-962dea11dc17",
   "metadata": {},
   "outputs": [],
   "source": [
    "# Compute the number of distinct documents each term appears in and store in a dictionary.\n",
    "term_doc_counts = df.groupby('term')['url'].nunique()\n",
    "term_doc_count_dict = term_doc_counts.to_dict()"
   ]
  },
  {
   "cell_type": "code",
   "execution_count": 7,
   "id": "1f4e28dd-2120-40d9-85b2-237db53c1727",
   "metadata": {},
   "outputs": [
    {
     "name": "stdout",
     "output_type": "stream",
     "text": [
      "0.3669031551018054\n"
     ]
    }
   ],
   "source": [
    "# Print the relative document frequency of 'alaska' i.e., the number of documents that contain 'alaska' divided by N.\n",
    "the_relative_doc_frequency = term_doc_count_dict['alaska'] / N\n",
    "print(the_relative_doc_frequency)"
   ]
  },
  {
   "cell_type": "code",
   "execution_count": 8,
   "id": "e263dae6-5601-43e0-a606-6b86de3b86be",
   "metadata": {},
   "outputs": [
    {
     "name": "stdout",
     "output_type": "stream",
     "text": [
      "                                                       url       term  count  \\\n",
      "0        https://en.wikipedia.org/w/index.php?action=ed...        thi      6   \n",
      "1        https://en.wikipedia.org/w/index.php?action=ed...         is      4   \n",
      "2        https://en.wikipedia.org/w/index.php?action=ed...         an      1   \n",
      "3        https://en.wikipedia.org/w/index.php?action=ed...        old      1   \n",
      "4        https://en.wikipedia.org/w/index.php?action=ed...      revis      2   \n",
      "...                                                    ...        ...    ...   \n",
      "4800337  https://en.wikipedia.org/w/index.php?title=Spe...       help      1   \n",
      "4800338  https://en.wikipedia.org/w/index.php?title=Spe...      relat      1   \n",
      "4800339  https://en.wikipedia.org/w/index.php?title=Spe...    related      1   \n",
      "4800340  https://en.wikipedia.org/w/index.php?title=Spe...    changes      1   \n",
      "4800341  https://en.wikipedia.org/w/index.php?title=Spe...  wikipedia      1   \n",
      "\n",
      "         doc_freq     tfidf  \n",
      "0           12475  0.640431  \n",
      "1           11069  0.722146  \n",
      "2            5552  0.789276  \n",
      "3            1474  1.708513  \n",
      "4            1035  3.096374  \n",
      "...           ...       ...  \n",
      "4800337      6515  0.678408  \n",
      "4800338      3096  1.194107  \n",
      "4800339      1107  1.906979  \n",
      "4800340      1096  1.913901  \n",
      "4800341     13692  0.163604  \n",
      "\n",
      "[4800342 rows x 5 columns]\n"
     ]
    }
   ],
   "source": [
    "# Compute the tf-idf value for each term in each document. Take the raw term data and add a tfidf field to each record.\n",
    "df = pd.DataFrame(terms)\n",
    "df = df.merge(term_doc_counts.reset_index(name='doc_freq'), on='term')\n",
    "df['tfidf'] = np.log(df['count'] + 1) * np.log(N / df['doc_freq'])\n",
    "print(df[['url', 'term', 'count', 'doc_freq', 'tfidf']])"
   ]
  },
  {
   "cell_type": "code",
   "execution_count": 9,
   "id": "a29d51c0-36f1-478e-9de1-bbe2390aaac6",
   "metadata": {},
   "outputs": [
    {
     "name": "stdout",
     "output_type": "stream",
     "text": [
      "                                                       url       term  \\\n",
      "1169394                 http://www.kbismarck.com/1898.html   escuadra   \n",
      "1169033                 http://www.kbismarck.com/1898.html       buqu   \n",
      "1168591                 http://www.kbismarck.com/1898.html      había   \n",
      "1168882                 http://www.kbismarck.com/1898.html    enemigo   \n",
      "1114065           http://nrchambers.tripod.com/diary.shtml      barak   \n",
      "1169443                 http://www.kbismarck.com/1898.html       nudo   \n",
      "3951017  http://explorenorth.com/library/history/sheles...      dryad   \n",
      "1168869                 http://www.kbismarck.com/1898.html  situación   \n",
      "1169446                 http://www.kbismarck.com/1898.html        mm8   \n",
      "1169294                 http://www.kbismarck.com/1898.html      porqu   \n",
      "1168754                 http://www.kbismarck.com/1898.html     fueron   \n",
      "1168847                 http://www.kbismarck.com/1898.html     posibl   \n",
      "1168993                 http://www.kbismarck.com/1898.html  milímetro   \n",
      "1168647                 http://www.kbismarck.com/1898.html   ministro   \n",
      "1168947                 http://www.kbismarck.com/1898.html     carbón   \n",
      "1169964                 http://www.kbismarck.com/1898.html      salir   \n",
      "1168861                 http://www.kbismarck.com/1898.html       sólo   \n",
      "1169560                 http://www.kbismarck.com/1898.html   almirant   \n",
      "1168999                 http://www.kbismarck.com/1898.html    crucero   \n",
      "1168930                 http://www.kbismarck.com/1898.html        qué   \n",
      "\n",
      "             tfidf  \n",
      "1169394  82.348707  \n",
      "1169033  81.421807  \n",
      "1168591  75.817275  \n",
      "1168882  72.446808  \n",
      "1114065  71.788634  \n",
      "1169443  71.348816  \n",
      "3951017  70.846445  \n",
      "1168869  70.104053  \n",
      "1169446  69.710550  \n",
      "1169294  69.097075  \n",
      "1168754  68.981270  \n",
      "1168847  68.981270  \n",
      "1168993  68.804944  \n",
      "1168647  68.362978  \n",
      "1168947  67.549894  \n",
      "1169964  67.491910  \n",
      "1168861  66.736459  \n",
      "1169560  66.565490  \n",
      "1168999  66.556778  \n",
      "1168930  66.550899  \n"
     ]
    }
   ],
   "source": [
    "# Print the 20 term-document pairs with the highest tf-idf values.\n",
    "top20_tfidf = df.sort_values(by='tfidf', ascending=False).head(20)\n",
    "print(top20_tfidf[['url', 'term', 'tfidf']])"
   ]
  },
  {
   "cell_type": "code",
   "execution_count": 10,
   "id": "ab9e2501-d5db-47fd-bb48-9730014b8f1e",
   "metadata": {},
   "outputs": [
    {
     "name": "stdout",
     "output_type": "stream",
     "text": [
      "147802\n",
      "('the', 1200143)\n"
     ]
    }
   ],
   "source": [
    "# Compute a list of the distinct words in this collection and sort it in descending order of frequency.\n",
    "frequency = []\n",
    "df = pd.DataFrame(terms)\n",
    "term_frequencies = df.groupby('term')['count'].sum().reset_index()\n",
    "term_frequencies = term_frequencies.sort_values(by='count', ascending=False)\n",
    "frequency = list(term_frequencies.itertuples(index=False, name=None))\n",
    "print(len(frequency))\n",
    "print(frequency[0])"
   ]
  },
  {
   "cell_type": "code",
   "execution_count": 11,
   "id": "d00c0c7c-d6cd-4420-8226-abdc63749db1",
   "metadata": {},
   "outputs": [
    {
     "data": {
      "image/png": "[encoded data removed]",
      "text/plain": [
       "<Figure size 640x480 with 1 Axes>"
      ]
     },
     "metadata": {},
     "output_type": "display_data"
    }
   ],
   "source": [
    "# Plot a graph of the log of the rank (starting at 1) on the x-axis, against the log of the frequency on the y-axis.\n",
    "import matplotlib.pyplot as plt\n",
    "\n",
    "ranks = range(1, len (frequency) + 1)\n",
    "frequencies = term_frequencies['count'].tolist()\n",
    "\n",
    "log_ranks = np.log(ranks)\n",
    "log_freqs = np.log(frequencies)\n",
    "\n",
    "# Plot the graph\n",
    "plt.plot(log_ranks, log_freqs)\n",
    "plt.xlabel('Log(Rank)') \n",
    "plt.ylabel('Log(Frequency)') \n",
    "plt.title('Log(Rank) vs Log(Frequency)')\n",
    "plt.grid(True)\n",
    "plt.show()"
   ]
  },
  {
   "cell_type": "code",
   "execution_count": 12,
   "id": "9cec0062-a621-4d52-bcf0-375fd397761f",
   "metadata": {},
   "outputs": [
    {
     "name": "stdout",
     "output_type": "stream",
     "text": [
      "18387836\n"
     ]
    }
   ],
   "source": [
    "# TODO: Compute the number of tokens in the corpus. Remember to count each occurrence of each word.\n",
    "df = pd.DataFrame(terms)\n",
    "ntokens = df['count'].sum()\n",
    "print(ntokens)"
   ]
  },
  {
   "cell_type": "code",
   "execution_count": 13,
   "id": "29d1c925-9045-4e91-8202-9bd4725a97c1",
   "metadata": {},
   "outputs": [
    {
     "name": "stdout",
     "output_type": "stream",
     "text": [
      "0.2131914272022004\n"
     ]
    }
   ],
   "source": [
    "# Compute the proportion of tokens made up by the top 10 most frequent words.\n",
    "df = pd.DataFrame(terms)\n",
    "top_10 = df.groupby('term')['count'].sum().sort_values(ascending=False).head(10)\n",
    "top10_tokens = top_10.sum()\n",
    "proportion_top_10 = top10_tokens / ntokens\n",
    "print(proportion_top_10)"
   ]
  },
  {
   "cell_type": "code",
   "execution_count": 14,
   "id": "d7814c40-1f8b-4650-a59b-b47b976a6bdf",
   "metadata": {},
   "outputs": [
    {
     "name": "stdout",
     "output_type": "stream",
     "text": [
      "0.0037289325399682705\n"
     ]
    }
   ],
   "source": [
    "# Compute the proportion of tokens made up by the words that occur exactly once in this collection.\n",
    "df = pd.DataFrame(terms)\n",
    "term_frequencies = df.groupby('term')['count'].sum().reset_index()\n",
    "single_occurrence_tokens = term_frequencies[term_frequencies['count'] == 1]['count'].sum()\n",
    "proportion_single_occurrence = single_occurrence_tokens / ntokens\n",
    "print(proportion_single_occurrence)"
   ]
  },
  {
   "cell_type": "code",
   "execution_count": null,
   "id": "7cf72635-7bfe-4420-917d-809fa8488829",
   "metadata": {},
   "outputs": [],
   "source": []
  }
 ],
 "metadata": {
  "kernelspec": {
   "display_name": "Python 3 (ipykernel)",
   "language": "python",
   "name": "python3"
  },
  "language_info": {
   "codemirror_mode": {
    "name": "ipython",
    "version": 3
   },
   "file_extension": ".py",
   "mimetype": "text/x-python",
   "name": "python",
   "nbconvert_exporter": "python",
   "pygments_lexer": "ipython3",
   "version": "3.12.7"
  }
 },
 "nbformat": 4,
 "nbformat_minor": 5
}
